{
 "cells": [
  {
   "cell_type": "code",
   "execution_count": null,
   "metadata": {},
   "outputs": [],
   "source": [
    "import socket\n",
    "from datetime import datetime\n",
    "from random import getrandbits\n",
    "from ipaddress import IPv4Address\n",
    "from netaddr import IPNetwork, IPAddress\n",
    "import threading\n",
    "import requests\n",
    "from urllib.request import urlopen\n",
    "import json"
   ]
  },
  {
   "cell_type": "code",
   "execution_count": null,
   "metadata": {},
   "outputs": [],
   "source": [
    "print('''Don't Mess With Network List from Mirai:\n",
    "127.0.0.0/8               # Loopback\n",
    "0.0.0.0/8                 # Invalid address space\n",
    "3.0.0.0/8                 # General Electric (GE)\n",
    "15.0.0.0/7                # Hewlett-Packard (HP)\n",
    "56.0.0.0/8                # US Postal Service\n",
    "10.0.0.0/8                # Internal network\n",
    "192.168.0.0/16            # Internal network\n",
    "172.16.0.0/14             # Internal network\n",
    "100.64.0.0/10             # IANA NAT reserved\n",
    "169.254.0.0/16            # IANA NAT reserved\n",
    "198.18.0.0/15             # IANA Special use\n",
    "224.0.0.0/4               # Multicast\n",
    "6.0.0.0/7                 # Department of Defense \n",
    "11.0.0.0/8                # Department of Defense\n",
    "21.0.0.0/8                # Department of Defense\n",
    "22.0.0.0/8                # Department of Defense\n",
    "26.0.0.0/8                # Department of Defense\n",
    "28.0.0.0/7                # Department of Defense\n",
    "30.0.0.0/8                # Department of Defense\n",
    "33.0.0.0/8                # Department of Defense\n",
    "55.0.0.0/8                # Department of Defense\n",
    "214.0.0.0/7               # Department of Defense''')"
   ]
  },
  {
   "cell_type": "code",
   "execution_count": null,
   "metadata": {
    "collapsed": true
   },
   "outputs": [],
   "source": [
    "dontMessWithList = ['127.0.0.0/8', '0.0.0.0/8', '3.0.0.0/8', '15.0.0.0/7', '56.0.0.0/8', '10.0.0.0/8', '192.168.0.0/16', '172.16.0.0/14', '100.64.0.0/10', '169.254.0.0/16', '198.18.0.0/15', '224.0.0.0/4', '6.0.0.0/7', '11.0.0.0/8', '21.0.0.0/8', '22.0.0.0/8', '26.0.0.0/8', '28.0.0.0/7', '30.0.0.0/8', '33.0.0.0/8', '55.0.0.0/8', '214.0.0.0/7']"
   ]
  },
  {
   "cell_type": "code",
   "execution_count": null,
   "metadata": {
    "collapsed": true
   },
   "outputs": [],
   "source": [
    "def generate_rand_ip():\n",
    "    ip_in_bits = getrandbits(32)\n",
    "    ip_addr = IPv4Address(ip_in_bits)\n",
    "    rand_ip_addr = str(ip_addr)\n",
    "    return rand_ip_addr"
   ]
  },
  {
   "cell_type": "code",
   "execution_count": null,
   "metadata": {
    "collapsed": true
   },
   "outputs": [],
   "source": [
    "def check_ip(ip_addr):\n",
    "    for network in dontMessWithList:\n",
    "        if IPAddress(ip_addr) in IPNetwork(network):\n",
    "            return False\n",
    "    return True"
   ]
  },
  {
   "cell_type": "code",
   "execution_count": null,
   "metadata": {},
   "outputs": [],
   "source": [
    "print('Some standard ports: \\nTR-069:\\t7547\\nUPnP:\\t1900\\nXMPP:\\t5222\\nCoAP:\\t5683\\nMQTT:\\t1883/8883')"
   ]
  },
  {
   "cell_type": "code",
   "execution_count": null,
   "metadata": {
    "collapsed": true
   },
   "outputs": [],
   "source": [
    "def TCP_connect(ip, port_number, delay, output):\n",
    "    TCPsock = socket.socket(socket.AF_INET, socket.SOCK_STREAM)\n",
    "    TCPsock.setsockopt(socket.SOL_SOCKET, socket.SO_REUSEADDR, 1)\n",
    "    TCPsock.settimeout(delay)\n",
    "    try:\n",
    "        TCPsock.connect((ip, port_number))\n",
    "        output[port_number] = 'Listening'\n",
    "    except:\n",
    "        output[port_number] = ''\n",
    "\n",
    "\n",
    "def scan_ports(host_ip, delay):\n",
    "\n",
    "#     print(\"-\" * 60)\n",
    "#     print(\"Please wait, scanning remote host\", host_ip)\n",
    "#     print(\"-\" * 60)\n",
    "\n",
    "    t1 = datetime.now()\n",
    "\n",
    "    threads = []\n",
    "    output = {}\n",
    "    common_iot_ports = [21, 22, 23, 25, 80, 81, 82, 83, 84, 88, 137, 143, 443, 445, 554, 631, 1080, 1883, 1900, 2000, 2323, 4433, 4443, 4567, 5222, 5683, 7474, 7547, 8000, 8023, 8080, 8081, 8443, 8088, 8883, 8888, 9000, 9090, 9999, 10000, 37777, 49152]\n",
    "\n",
    "    for i in common_iot_ports:\n",
    "        t = threading.Thread(target=TCP_connect, args=(host_ip, i, delay, output))\n",
    "        threads.append(t)\n",
    "\n",
    "    for i in range(len(common_iot_ports)):\n",
    "        threads[i].start()\n",
    "    \n",
    "    for i in range(len(common_iot_ports)):\n",
    "        threads[i].join()\n",
    "    \n",
    "    total_listening = 0\n",
    "    ports_listening = []\n",
    "    for i in range(len(common_iot_ports)):\n",
    "        if output[common_iot_ports[i]] == 'Listening':\n",
    "            total_listening += 1\n",
    "            ports_listening.append(common_iot_ports[i])\n",
    "#             print(str(common_iot_ports[i]) + ': ' + output[common_iot_ports[i]])\n",
    "\n",
    "#     t2 = datetime.now()\n",
    "#     total =  t2 - t1\n",
    "#     print('Scanning completed in:', total)\n",
    "    if total_listening > 0:\n",
    "        print(\"IP:\", host_ip)\n",
    "        print(total_listening, ports_listening)\n",
    "    return total_listening, ports_listening"
   ]
  },
  {
   "cell_type": "code",
   "execution_count": null,
   "metadata": {
    "collapsed": true
   },
   "outputs": [],
   "source": [
    "def check_if_phue_bulb(ip_addr, port):\n",
    "    url = 'http://' + ip_addr + ':' + str(port)\n",
    "    try:\n",
    "        r = requests.get(url, verify=False, timeout=2)\n",
    "        return r.headers\n",
    "        r = urlopen(url, timeout=3, verify=False)\n",
    "        string = r.read().decode('utf-8')\n",
    "        json_obj = json.loads(string)\n",
    "        return json_obj\n",
    "    except Exception as e:\n",
    "        return \"Empty json object\""
   ]
  },
  {
   "cell_type": "code",
   "execution_count": null,
   "metadata": {
    "collapsed": true
   },
   "outputs": [],
   "source": [
    "import pickle\n",
    "\n",
    "def storeData(obj, filename):\n",
    "    pickleFile = open(filename, 'wb')\n",
    "    pickle.dump(obj, pickleFile)\n",
    "    pickleFile.close()\n",
    "    \n",
    "def loadData(filename):\n",
    "    pickleFile = open(filename, 'rb')\n",
    "    obj = pickle.load(pickleFile)\n",
    "    pickleFile.close()\n",
    "    return obj"
   ]
  },
  {
   "cell_type": "code",
   "execution_count": null,
   "metadata": {
    "collapsed": true
   },
   "outputs": [],
   "source": [
    "# Every one of them is a set\n",
    "ips_checked = loadData(\"ips_checked.dat\")\n",
    "hikvision_camera_addr = loadData(\"hikvision_camera_addr.dat\")\n",
    "sonicWall_firewall_addr = loadData(\"sonicWall_firewall_addr.dat\")\n",
    "netgear_router_addr = loadData(\"netgear_router_addr.dat\")\n",
    "TR069_protocolDevice_addr = loadData(\"TR069_protocolDevice_addr.dat\")\n",
    "lighttpd_protocolDevice_addr = loadData(\"lighttpd_protocolDevice_addr.dat\")\n",
    "Huawei_router_addr = loadData(\"Huawei_router_addr.dat\")\n",
    "kangle_addr = loadData(\"kangle_addr.dat\")\n",
    "tplink_router_addr = loadData(\"tplink_router_addr.dat\")\n",
    "app_web_server_addr = loadData(\"app_web_server_addr.dat\")"
   ]
  },
  {
   "cell_type": "code",
   "execution_count": null,
   "metadata": {
    "collapsed": true
   },
   "outputs": [],
   "source": [
    "try:\n",
    "    while True:\n",
    "        ip_addr = generate_rand_ip()\n",
    "        if ip_addr not in ips_checked:\n",
    "            ips_checked.add(ip_addr)\n",
    "        else:\n",
    "            continue\n",
    "    #     ip_addr = '73.162.12.235'\n",
    "        if check_ip(ip_addr):\n",
    "            a, b = scan_ports(ip_addr, 2)\n",
    "            if a > 0:\n",
    "                for port in b:\n",
    "    #                 print(\"Reading port:\", port)\n",
    "                    json_obj = check_if_phue_bulb(ip_addr, port)\n",
    "#                     print(json_obj)\n",
    "                    if json_obj != \"Empty json object\":\n",
    "                        print(json_obj)\n",
    "                        rh = json.dumps(json_obj.__dict__['_store'])\n",
    "                        print(rh)\n",
    "                        if 'Hikvision'.lower() in rh.lower() or 'DVRDVS'.lower() in rh.lower():\n",
    "                            hikvision_camera_addr.add(ip_addr + \":\" + str(port))\n",
    "                        elif 'SonicWALL'.lower() in rh.lower():\n",
    "                            sonicWall_firewall_addr.add(ip_addr + \":\" + str(port))\n",
    "                        elif 'NETGEAR'.lower() in rh.lower():\n",
    "                            netgear_router_addr.add(ip_addr + \":\" + str(port))\n",
    "                        elif 'TR069'.lower() in rh.lower() or 'gSOAP'.lower() in rh.lower() or 'TR-069'.lower() in rh.lower():\n",
    "                            TR069_protocolDevice_addr.add(ip_addr + \":\" + str(port))\n",
    "                        elif 'lighttpd'.lower() in rh.lower():\n",
    "                            lighttpd_protocolDevice_addr.add(ip_addr + \":\" + str(port))\n",
    "                        elif 'HuaweiHomeGateway'.lower() in rh.lower():\n",
    "                            Huawei_router_addr.add(ip_addr + \":\" + str(port))\n",
    "                        elif 'kangle'.lower() in rh.lower():\n",
    "                            kangle_addr.add(ip_addr + \":\" + str(port))\n",
    "                        elif 'TP-LINK'.lower() in rh.lower():\n",
    "                            tplink_router_addr.add(ip_addr + \":\" + str(port))\n",
    "                        elif 'App-webs'.lower() in rh.lower():\n",
    "                            app_web_server_addr.add(ip_addr + \":\" + str(port))\n",
    "                    if 'name' in json_obj:\n",
    "                        if json_obj['name'] == 'Philips hue':\n",
    "                            print((\"*\" * 10) + 'Philips hue bulb is found.' + (\"*\" * 10))\n",
    "    #                 print()\n",
    "    #     else:\n",
    "    #         print(ip_addr, \"is in excluded ip list.\")\n",
    "    #     break\n",
    "except KeyboardInterrupt:\n",
    "    pass"
   ]
  },
  {
   "cell_type": "code",
   "execution_count": null,
   "metadata": {},
   "outputs": [],
   "source": [
    "print(\"Total unique IPs checked:\", len(ips_checked))\n",
    "print(\"Total unique hikvision cameras found:\", len(hikvision_camera_addr))\n",
    "print(\"Total unique sonicWall firewall found:\", len(sonicWall_firewall_addr))\n",
    "print(\"Total unique netgear router found:\", len(netgear_router_addr))\n",
    "print(\"Total unique TR069_protocolDevice found:\", len(TR069_protocolDevice_addr))\n",
    "print(\"Total unique lighttpd_protocolDevice found:\", len(lighttpd_protocolDevice_addr))\n",
    "print(\"Total unique Huawei_router found:\", len(Huawei_router_addr))\n",
    "print(\"Total unique kangle found:\", len(kangle_addr))\n",
    "print(\"Total unique tplink_router found:\", len(tplink_router_addr))\n",
    "print(\"Total unique app_web_server found:\", len(app_web_server_addr))"
   ]
  },
  {
   "cell_type": "code",
   "execution_count": null,
   "metadata": {
    "scrolled": true
   },
   "outputs": [],
   "source": [
    "print(hikvision_camera_addr)\n",
    "print(sonicWall_firewall_addr)\n",
    "print(netgear_router_addr)\n",
    "print(TR069_protocolDevice_addr)\n",
    "print(lighttpd_protocolDevice_addr)\n",
    "print(Huawei_router_addr)\n",
    "print(kangle_addr)\n",
    "print(tplink_router_addr)\n",
    "print(app_web_server_addr)"
   ]
  },
  {
   "cell_type": "code",
   "execution_count": null,
   "metadata": {},
   "outputs": [],
   "source": [
    "storeData(ips_checked, \"ips_checked.dat\")\n",
    "storeData(hikvision_camera_addr, \"hikvision_camera_addr.dat\")\n",
    "storeData(sonicWall_firewall_addr, \"sonicWall_firewall_addr.dat\")\n",
    "storeData(netgear_router_addr, \"netgear_router_addr.dat\")\n",
    "storeData(TR069_protocolDevice_addr, \"TR069_protocolDevice_addr.dat\")\n",
    "storeData(lighttpd_protocolDevice_addr, \"lighttpd_protocolDevice_addr.dat\")\n",
    "storeData(Huawei_router_addr, \"Huawei_router_addr.dat\")\n",
    "storeData(kangle_addr, \"kangle_addr.dat\")\n",
    "storeData(tplink_router_addr, \"tplink_router_addr.dat\")\n",
    "storeData(app_web_server_addr, \"app_web_server_addr.dat\")"
   ]
  },
  {
   "cell_type": "code",
   "execution_count": null,
   "metadata": {
    "scrolled": true
   },
   "outputs": [],
   "source": [
    "from collections import defaultdict\n",
    "\n",
    "\n",
    "port_dict = defaultdict(lambda : 0)\n",
    "\n",
    "\n",
    "for i in hikvision_camera_addr:\n",
    "    port_dict[i.split(':')[1]] += 1\n",
    "for i in sonicWall_firewall_addr:\n",
    "    port_dict[i.split(':')[1]] += 1\n",
    "for i in netgear_router_addr:\n",
    "    port_dict[i.split(':')[1]] += 1\n",
    "for i in TR069_protocolDevice_addr:\n",
    "    port_dict[i.split(':')[1]] += 1\n",
    "for i in lighttpd_protocolDevice_addr:\n",
    "    port_dict[i.split(':')[1]] += 1\n",
    "for i in Huawei_router_addr:\n",
    "    port_dict[i.split(':')[1]] += 1\n",
    "for i in kangle_addr:\n",
    "    port_dict[i.split(':')[1]] += 1\n",
    "for i in tplink_router_addr:\n",
    "    port_dict[i.split(':')[1]] += 1\n",
    "for i in app_web_server_addr:\n",
    "    port_dict[i.split(':')[1]] += 1\n",
    "\n",
    "print(port_dict)"
   ]
  },
  {
   "cell_type": "code",
   "execution_count": null,
   "metadata": {
    "collapsed": true
   },
   "outputs": [],
   "source": []
  }
 ],
 "metadata": {
  "kernelspec": {
   "display_name": "Python 3",
   "language": "python",
   "name": "python3"
  },
  "language_info": {
   "codemirror_mode": {
    "name": "ipython",
    "version": 3
   },
   "file_extension": ".py",
   "mimetype": "text/x-python",
   "name": "python",
   "nbconvert_exporter": "python",
   "pygments_lexer": "ipython3",
   "version": "3.6.3"
  }
 },
 "nbformat": 4,
 "nbformat_minor": 2
}
